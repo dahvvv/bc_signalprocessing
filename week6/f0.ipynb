{
 "cells": [
  {
   "cell_type": "markdown",
   "metadata": {},
   "source": [
    "## Some simple F0 estimation methods, implemented by https://gist.github.com/endolith/255291"
   ]
  },
  {
   "cell_type": "code",
<<<<<<< HEAD
   "execution_count": 3,
=======
   "execution_count": 4,
>>>>>>> 5f02dd1d8eead5acb5c4d3574bcdaf9ef0da4436
   "metadata": {},
   "outputs": [
    {
     "ename": "AttributeError",
     "evalue": "module 'matplotlib.pyplot' has no attribute 'hold'",
     "output_type": "error",
     "traceback": [
      "\u001b[0;31m---------------------------------------------------------------------------\u001b[0m",
      "\u001b[0;31mAttributeError\u001b[0m                            Traceback (most recent call last)",
      "\u001b[0;32m<ipython-input-3-6d6f4124f778>\u001b[0m in \u001b[0;36m<module>\u001b[0;34m\u001b[0m\n\u001b[1;32m     49\u001b[0m \u001b[0;34m\u001b[0m\u001b[0m\n\u001b[1;32m     50\u001b[0m     \u001b[0mplot\u001b[0m \u001b[0;34m=\u001b[0m \u001b[0mplt\u001b[0m\u001b[0;34m.\u001b[0m\u001b[0mplot\u001b[0m\u001b[0;34m(\u001b[0m\u001b[0my\u001b[0m\u001b[0;34m)\u001b[0m\u001b[0;34m\u001b[0m\u001b[0m\n\u001b[0;32m---> 51\u001b[0;31m     \u001b[0mplt\u001b[0m\u001b[0;34m.\u001b[0m\u001b[0mhold\u001b[0m\u001b[0;34m(\u001b[0m\u001b[0;32mTrue\u001b[0m\u001b[0;34m)\u001b[0m\u001b[0;34m\u001b[0m\u001b[0m\n\u001b[0m\u001b[1;32m     52\u001b[0m     \u001b[0mplt\u001b[0m\u001b[0;34m.\u001b[0m\u001b[0mplot\u001b[0m\u001b[0;34m(\u001b[0m\u001b[0mxm\u001b[0m\u001b[0;34m,\u001b[0m \u001b[0mym\u001b[0m\u001b[0;34m,\u001b[0m \u001b[0;34m'o'\u001b[0m\u001b[0;34m,\u001b[0m \u001b[0mcolor\u001b[0m\u001b[0;34m=\u001b[0m\u001b[0;34m'silver'\u001b[0m\u001b[0;34m)\u001b[0m\u001b[0;34m\u001b[0m\u001b[0m\n\u001b[1;32m     53\u001b[0m     \u001b[0mplt\u001b[0m\u001b[0;34m.\u001b[0m\u001b[0mplot\u001b[0m\u001b[0;34m(\u001b[0m\u001b[0mxp\u001b[0m\u001b[0;34m,\u001b[0m \u001b[0myp\u001b[0m\u001b[0;34m,\u001b[0m \u001b[0;34m'o'\u001b[0m\u001b[0;34m,\u001b[0m \u001b[0mcolor\u001b[0m\u001b[0;34m=\u001b[0m\u001b[0;34m'blue'\u001b[0m\u001b[0;34m)\u001b[0m\u001b[0;34m\u001b[0m\u001b[0m\n",
      "\u001b[0;31mAttributeError\u001b[0m: module 'matplotlib.pyplot' has no attribute 'hold'"
     ]
    },
    {
     "data": {
<<<<<<< HEAD
      "image/png": "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\n",
      "text/plain": [
       "<Figure size 432x288 with 1 Axes>"
      ]
     },
     "metadata": {
      "needs_background": "light"
     },
=======
      "image/png": "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\n",
      "text/plain": [
       "<matplotlib.figure.Figure at 0x10f14dc18>"
      ]
     },
     "metadata": {},
>>>>>>> 5f02dd1d8eead5acb5c4d3574bcdaf9ef0da4436
     "output_type": "display_data"
    }
   ],
   "source": [
    "from __future__ import division\n",
    "from numpy import polyfit, arange\n",
    "\n",
    "def parabolic(f, x):\n",
    "    \"\"\"Quadratic interpolation for estimating the true position of an\n",
    "    inter-sample maximum when nearby samples are known.\n",
    "   \n",
    "    f is a vector and x is an index for that vector.\n",
    "   \n",
    "    Returns (vx, vy), the coordinates of the vertex of a parabola that goes\n",
    "    through point x and its two neighbors.\n",
    "   \n",
    "    Example:\n",
    "    Defining a vector f with a local maximum at index 3 (= 6), find local\n",
    "    maximum if points 2, 3, and 4 actually defined a parabola.\n",
    "   \n",
    "    In [3]: f = [2, 3, 1, 6, 4, 2, 3, 1]\n",
    "   \n",
    "    In [4]: parabolic(f, argmax(f))\n",
    "    Out[4]: (3.2142857142857144, 6.1607142857142856)\n",
    "   \n",
    "    \"\"\"\n",
    "    xv = 1/2. * (f[x-1] - f[x+1]) / (f[x-1] - 2 * f[x] + f[x+1]) + x\n",
    "    yv = f[x] - 1/4. * (f[x-1] - f[x+1]) * (xv - x)\n",
    "    return (xv, yv)\n",
    "\n",
    "\n",
    "def parabolic_polyfit(f, x, n):\n",
    "    \"\"\"Use the built-in polyfit() function to find the peak of a parabola\n",
    "    \n",
    "    f is a vector and x is an index for that vector.\n",
    "    \n",
    "    n is the number of samples of the curve used to fit the parabola.\n",
    "    \"\"\"    \n",
    "    a, b, c = polyfit(arange(x-n//2, x+n//2+1), f[x-n//2:x+n//2+1], 2)\n",
    "    xv = -0.5 * b/a\n",
    "    yv = a * xv**2 + b * xv + c\n",
    "    return (xv, yv)\n",
    "\n",
    "\n",
    "if __name__==\"__main__\":\n",
    "    from numpy import argmax\n",
    "    import matplotlib.pyplot as plt\n",
    "    \n",
    "    y = [2, 1, 4, 8, 11, 10, 7, 3, 1, 1]\n",
    "    \n",
    "    xm, ym = argmax(y), y[argmax(y)]\n",
    "    xp, yp = parabolic(y, argmax(y))\n",
    "    \n",
    "    plot = plt.plot(y)\n",
    "    plt.hold(True)\n",
    "    plt.plot(xm, ym, 'o', color='silver')\n",
    "    plt.plot(xp, yp, 'o', color='blue')\n",
    "    plt.title('silver = max, blue = estimated max')\n"
   ]
  },
  {
   "cell_type": "code",
<<<<<<< HEAD
   "execution_count": 4,
=======
   "execution_count": 5,
>>>>>>> 5f02dd1d8eead5acb5c4d3574bcdaf9ef0da4436
   "metadata": {},
   "outputs": [
    {
     "ename": "ImportError",
     "evalue": "No module named 'scikits'",
     "output_type": "error",
     "traceback": [
      "\u001b[0;31m---------------------------------------------------------------------------\u001b[0m",
      "\u001b[0;31mImportError\u001b[0m                               Traceback (most recent call last)",
      "\u001b[0;32m<ipython-input-4-de01b62e53fe>\u001b[0m in \u001b[0;36m<module>\u001b[0;34m\u001b[0m\n\u001b[1;32m      8\u001b[0m \u001b[0;32mtry\u001b[0m\u001b[0;34m:\u001b[0m\u001b[0;34m\u001b[0m\u001b[0m\n\u001b[0;32m----> 9\u001b[0;31m     \u001b[0;32mimport\u001b[0m \u001b[0msoundfile\u001b[0m \u001b[0;32mas\u001b[0m \u001b[0msf\u001b[0m\u001b[0;34m\u001b[0m\u001b[0m\n\u001b[0m\u001b[1;32m     10\u001b[0m \u001b[0;32mexcept\u001b[0m \u001b[0mImportError\u001b[0m\u001b[0;34m:\u001b[0m\u001b[0;34m\u001b[0m\u001b[0m\n",
      "\u001b[0;31mImportError\u001b[0m: No module named 'soundfile'",
      "\nDuring handling of the above exception, another exception occurred:\n",
      "\u001b[0;31mImportError\u001b[0m                               Traceback (most recent call last)",
      "\u001b[0;32m<ipython-input-4-de01b62e53fe>\u001b[0m in \u001b[0;36m<module>\u001b[0;34m\u001b[0m\n\u001b[1;32m      9\u001b[0m     \u001b[0;32mimport\u001b[0m \u001b[0msoundfile\u001b[0m \u001b[0;32mas\u001b[0m \u001b[0msf\u001b[0m\u001b[0;34m\u001b[0m\u001b[0m\n\u001b[1;32m     10\u001b[0m \u001b[0;32mexcept\u001b[0m \u001b[0mImportError\u001b[0m\u001b[0;34m:\u001b[0m\u001b[0;34m\u001b[0m\u001b[0m\n\u001b[0;32m---> 11\u001b[0;31m     \u001b[0;32mfrom\u001b[0m \u001b[0mscikits\u001b[0m\u001b[0;34m.\u001b[0m\u001b[0maudiolab\u001b[0m \u001b[0;32mimport\u001b[0m \u001b[0mflacread\u001b[0m\u001b[0;34m\u001b[0m\u001b[0m\n\u001b[0m",
      "\u001b[0;31mImportError\u001b[0m: No module named 'scikits'"
     ]
    }
   ],
   "source": [
    "from __future__ import division\n",
    "from numpy.fft import rfft\n",
    "from numpy import argmax, mean, diff, log\n",
    "from matplotlib.mlab import find\n",
    "from scipy.signal import blackmanharris, fftconvolve\n",
    "from time import time\n",
    "import sys\n",
    "try:\n",
    "    import soundfile as sf\n",
    "except ImportError:\n",
    "    from scikits.audiolab import flacread"
   ]
  },
  {
   "cell_type": "code",
   "execution_count": 6,
   "metadata": {},
   "outputs": [],
   "source": [
    "def freq_from_crossings(sig, fs):\n",
    "    \"\"\"\n",
    "    Estimate frequency by counting zero crossings\n",
    "    \"\"\"\n",
    "    # Find all indices right before a rising-edge zero crossing\n",
    "    indices = find((sig[1:] >= 0) & (sig[:-1] < 0))\n",
    "\n",
    "    # Naive (Measures 1000.185 Hz for 1000 Hz, for instance)\n",
    "    # crossings = indices\n",
    "\n",
    "    # More accurate, using linear interpolation to find intersample\n",
    "    # zero-crossings (Measures 1000.000129 Hz for 1000 Hz, for instance)\n",
    "    crossings = [i - sig[i] / (sig[i+1] - sig[i]) for i in indices]\n",
    "\n",
    "    # Some other interpolation based on neighboring points might be better.\n",
    "    # Spline, cubic, whatever\n",
    "\n",
    "    return fs / mean(diff(crossings))"
   ]
  },
  {
   "cell_type": "code",
   "execution_count": 7,
   "metadata": {},
   "outputs": [],
   "source": [
    "def freq_from_fft(sig, fs):\n",
    "    \"\"\"\n",
    "    Estimate frequency from peak of FFT\n",
    "    \"\"\"\n",
    "    # Compute Fourier transform of windowed signal\n",
    "    windowed = sig * blackmanharris(len(sig))\n",
    "    f = rfft(windowed)\n",
    "\n",
    "    # Find the peak and interpolate to get a more accurate peak\n",
    "    i = argmax(abs(f))  # Just use this for less-accurate, naive version\n",
    "    true_i = parabolic(log(abs(f)), i)[0]\n",
    "\n",
    "    # Convert to equivalent frequency\n",
    "    return fs * true_i / len(windowed)"
   ]
  },
  {
   "cell_type": "code",
   "execution_count": 8,
   "metadata": {},
   "outputs": [],
   "source": [
    "def freq_from_autocorr(sig, fs):\n",
    "    \"\"\"\n",
    "    Estimate frequency using autocorrelation\n",
    "    \"\"\"\n",
    "    # Calculate autocorrelation (same thing as convolution, but with\n",
    "    # one input reversed in time), and throw away the negative lags\n",
    "    corr = fftconvolve(sig, sig[::-1], mode='full')\n",
    "    corr = corr[len(corr)//2:]\n",
    "\n",
    "    # Find the first low point\n",
    "    d = diff(corr)\n",
    "    start = find(d > 0)[0]\n",
    "\n",
    "    # Find the next peak after the low point (other than 0 lag).  This bit is\n",
    "    # not reliable for long signals, due to the desired peak occurring between\n",
    "    # samples, and other peaks appearing higher.\n",
    "    # Should use a weighting function to de-emphasize the peaks at longer lags.\n",
    "    peak = argmax(corr[start:]) + start\n",
    "    px, py = parabolic(corr, peak)\n",
    "\n",
    "    return fs / px"
   ]
  },
  {
   "cell_type": "code",
   "execution_count": 9,
   "metadata": {},
   "outputs": [
    {
     "name": "stdout",
     "output_type": "stream",
     "text": [
      "Reading file \"avmA.wav\"\n",
      "\n",
      "Calculating frequency from FFT:\n",
      "895.650467 Hz\n",
      "Time elapsed: 0.097 s\n",
      "\n",
      "Calculating frequency from zero crossings:\n",
      "910.090770 Hz\n",
      "Time elapsed: 0.010 s\n",
      "\n",
      "Calculating frequency from autocorrelation:\n",
      "456.347687 Hz\n",
      "Time elapsed: 0.029 s\n",
      "\n"
     ]
    }
   ],
   "source": [
    "#filename = sys.argv[1]\n",
    "filename='avmA.wav'\n",
    "\n",
    "print('Reading file \"%s\"\\n' % filename)\n",
    "try:\n",
    "    signal, fs = sf.read(filename)\n",
    "except NameError:\n",
    "    signal, fs, enc = flacread(filename)\n",
    "\n",
    "print('Calculating frequency from FFT:'),\n",
    "start_time = time()\n",
    "print('%f Hz' % freq_from_fft(signal, fs))\n",
    "print('Time elapsed: %.3f s\\n' % (time() - start_time))\n",
    "\n",
    "print('Calculating frequency from zero crossings:'),\n",
    "start_time = time()\n",
    "print('%f Hz' % freq_from_crossings(signal, fs))\n",
    "print('Time elapsed: %.3f s\\n' % (time() - start_time))\n",
    "\n",
    "print('Calculating frequency from autocorrelation:'),\n",
    "start_time = time()\n",
    "print('%f Hz' % freq_from_autocorr(signal, fs))\n",
    "print('Time elapsed: %.3f s\\n' % (time() - start_time))"
   ]
  },
  {
   "cell_type": "markdown",
   "metadata": {},
   "source": [
    "## YIN algorithm, implemented in Aubio: https://aubio.org/"
   ]
  },
  {
   "cell_type": "code",
<<<<<<< HEAD
   "execution_count": 1,
=======
   "execution_count": 10,
>>>>>>> 5f02dd1d8eead5acb5c4d3574bcdaf9ef0da4436
   "metadata": {},
   "outputs": [],
   "source": [
    "import matplotlib.pyplot as plt\n",
    "import numpy as np\n",
    "import aubio"
   ]
  },
  {
   "cell_type": "code",
<<<<<<< HEAD
   "execution_count": 5,
=======
   "execution_count": 21,
>>>>>>> 5f02dd1d8eead5acb5c4d3574bcdaf9ef0da4436
   "metadata": {},
   "outputs": [],
   "source": [
    "# YIN pitches\n",
    "filename='avmA.wav'\n",
    "downsample = 1\n",
    "samplerate = 0\n",
    "win_s = 1764 // downsample # fft size\n",
    "hop_s = 441 // downsample # hop size\n",
    "s = aubio.source(filename, samplerate, hop_s)\n",
    "samplerate = s.samplerate\n",
    "tolerance = 0.1\n",
    "\n",
    "start_time = time()\n",
    "pitch_o = aubio.pitch(\"yin\", win_s, hop_s, samplerate) \n",
    "#pitch_o.set_unit(\"midi\")\n",
    "pitch_o.set_tolerance(tolerance)\n",
    "\n",
    "pitchesYIN = []\n",
    "confidences = [] \n",
    "total_frames = 0\n",
    "while True:\n",
    "    samples, read = s()\n",
    "    pitch = pitch_o(samples)[0]\n",
    "    pitch = int(round(pitch))\n",
    "    confidence = pitch_o.get_confidence()\n",
    "    pitchesYIN += [pitch]\n",
    "    confidences += [confidence]\n",
    "    total_frames += read\n",
    "    if read < hop_s:\n",
    "         break        \n",
    "stop_time = time()            "
   ]
  },
  {
   "cell_type": "code",
<<<<<<< HEAD
   "execution_count": 6,
=======
   "execution_count": 19,
>>>>>>> 5f02dd1d8eead5acb5c4d3574bcdaf9ef0da4436
   "metadata": {},
   "outputs": [
    {
     "name": "stdout",
     "output_type": "stream",
     "text": [
      "Calculating frequency from YIN:\n",
<<<<<<< HEAD
      "453.268966 Hz\n",
      "Time elapsed: 0.036 s\n",
=======
      "453.306030 Hz\n",
      "Time elapsed: 0.035 s\n",
>>>>>>> 5f02dd1d8eead5acb5c4d3574bcdaf9ef0da4436
      "\n"
     ]
    }
   ],
   "source": [
    "print('Calculating frequency from YIN:'),\n",
    "print('%f Hz' % mean(pitchesYIN))\n",
    "print('Time elapsed: %.3f s\\n' % (stop_time - start_time))"
   ]
  },
  {
   "cell_type": "code",
<<<<<<< HEAD
   "execution_count": 7,
=======
   "execution_count": 20,
>>>>>>> 5f02dd1d8eead5acb5c4d3574bcdaf9ef0da4436
   "metadata": {},
   "outputs": [
    {
     "data": {
      "text/plain": [
<<<<<<< HEAD
       "<matplotlib.legend.Legend at 0x1c1c3be710>"
      ]
     },
     "execution_count": 7,
=======
       "<matplotlib.legend.Legend at 0x1c1bb65dd8>"
      ]
     },
     "execution_count": 20,
>>>>>>> 5f02dd1d8eead5acb5c4d3574bcdaf9ef0da4436
     "metadata": {},
     "output_type": "execute_result"
    },
    {
     "data": {
<<<<<<< HEAD
      "image/png": "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\n",
      "text/plain": [
       "<Figure size 864x576 with 1 Axes>"
=======
      "image/png": "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\n",
      "text/plain": [
       "<matplotlib.figure.Figure at 0x1c1bb39860>"
>>>>>>> 5f02dd1d8eead5acb5c4d3574bcdaf9ef0da4436
      ]
     },
     "metadata": {
      "needs_background": "light"
     },
     "output_type": "display_data"
    }
   ],
   "source": [
    "fig, (ax1) = plt.subplots(1, 1, sharex=True, sharey=True, figsize=(12, 8))\n",
    "ax1.plot(np.asarray(pitchesYIN), label='YIN', color='green')\n",
    "ax1.legend(loc=\"upper right\")"
   ]
  },
  {
   "cell_type": "code",
   "execution_count": 22,
   "metadata": {},
   "outputs": [
    {
     "data": {
      "text/plain": [
       "<aubio.pitch at 0x1c19ce9fa8>"
      ]
     },
     "execution_count": 22,
     "metadata": {},
     "output_type": "execute_result"
    }
   ],
   "source": [
    "pitch_o"
   ]
  },
  {
   "cell_type": "code",
   "execution_count": 24,
   "metadata": {},
   "outputs": [
    {
     "data": {
      "text/plain": [
       "0.9906840920448303"
      ]
     },
     "execution_count": 24,
     "metadata": {},
     "output_type": "execute_result"
    }
   ],
   "source": [
    "pitch_o.get_confidence()"
   ]
  },
  {
   "cell_type": "code",
   "execution_count": 26,
   "metadata": {},
   "outputs": [
    {
     "data": {
      "text/plain": [
       "array([460.1306], dtype=float32)"
      ]
     },
     "execution_count": 26,
     "metadata": {},
     "output_type": "execute_result"
    }
   ],
   "source": [
    "pitch_o(samples)"
   ]
  },
  {
   "cell_type": "code",
   "execution_count": 27,
   "metadata": {},
   "outputs": [
    {
     "data": {
      "text/plain": [
       "array([ 0.02285767,  0.02407837,  0.02703857,  0.02990723,  0.02612305,\n",
       "        0.02508545,  0.02719116,  0.02774048,  0.02563477,  0.02749634,\n",
       "        0.02990723,  0.03262329,  0.03500366,  0.03549194,  0.03640747,\n",
       "        0.03747559,  0.03433228,  0.03222656,  0.03231812,  0.03030396,\n",
       "        0.02783203,  0.02719116,  0.0274353 ,  0.02706909,  0.02542114,\n",
       "        0.02084351,  0.02038574,  0.02163696,  0.02047729,  0.01831055,\n",
       "        0.02056885,  0.02526855,  0.02792358,  0.02761841,  0.02859497,\n",
       "        0.03024292,  0.02975464,  0.02996826,  0.02947998,  0.02957153,\n",
       "        0.03042603,  0.02822876,  0.02578735,  0.02822876,  0.02633667,\n",
       "        0.02218628,  0.02062988,  0.0178833 ,  0.01641846,  0.01315308,\n",
       "        0.01089478,  0.00894165,  0.00436401,  0.00592041,  0.00759888,\n",
       "        0.00634766,  0.00698853,  0.00390625,  0.00027466, -0.00094604,\n",
       "       -0.00424194, -0.00762939, -0.01147461, -0.01504517, -0.01660156,\n",
       "       -0.01925659, -0.02648926, -0.02905273, -0.02813721, -0.03237915,\n",
       "       -0.03509521, -0.03915405, -0.04373169, -0.04421997, -0.04873657,\n",
       "       -0.05197144, -0.05001831, -0.05050659, -0.05322266, -0.05358887,\n",
       "       -0.05273438, -0.05322266, -0.0553894 , -0.0557251 , -0.05706787,\n",
       "       -0.05740356, -0.0586853 , -0.0592041 , -0.0541687 , -0.04956055,\n",
       "       -0.0458374 , -0.04144287, -0.03158569, -0.02160645, -0.01797485,\n",
       "       -0.0144043 , -0.00839233, -0.00314331,  0.00146484,  0.00033569,\n",
       "        0.00146484,  0.00817871,  0.00915527,  0.00952148,  0.01358032,\n",
       "        0.01480103,  0.01635742,  0.01629639,  0.01559448,  0.01705933,\n",
       "        0.01748657,  0.01754761,  0.01916504,  0.02096558,  0.02474976,\n",
       "        0.02490234,  0.02618408,  0.02987671,  0.02893066,  0.02902222,\n",
       "        0.02859497,  0.0274353 ,  0.0305481 ,  0.03018188,  0.0305481 ,\n",
       "        0.03442383,  0.03421021,  0.03500366,  0.03317261,  0.03009033,\n",
       "        0.03005981,  0.02838135,  0.02539062,  0.02514648,  0.02597046,\n",
       "        0.02789307,  0.02838135,  0.03060913,  0.03292847,  0.03353882,\n",
       "        0.03549194,  0.03451538,  0.03433228,  0.03619385,  0.03451538,\n",
       "        0.03170776,  0.03201294,  0.02902222,  0.02502441,  0.02325439,\n",
       "        0.01947021,  0.01559448,  0.01535034,  0.01449585,  0.01278687,\n",
       "        0.01135254,  0.01022339,  0.00964355,  0.00686646,  0.00738525,\n",
       "        0.00668335,  0.00170898, -0.00036621, -0.00405884, -0.00897217,\n",
       "       -0.01016235, -0.01324463, -0.01467896, -0.0145874 , -0.01837158,\n",
       "       -0.02194214, -0.02334595, -0.02761841, -0.03164673, -0.03482056,\n",
       "       -0.03970337, -0.04141235, -0.04318237, -0.04528809, -0.04418945,\n",
       "       -0.04464722, -0.04464722, -0.04553223, -0.04751587, -0.04782104,\n",
       "       -0.05075073, -0.04928589, -0.04824829, -0.05435181, -0.05343628,\n",
       "       -0.05297852, -0.05258179, -0.04794312, -0.04840088, -0.04721069,\n",
       "       -0.04159546, -0.03842163, -0.03469849, -0.03186035, -0.02862549,\n",
       "       -0.02011108, -0.015625  , -0.01455688, -0.01049805, -0.00650024,\n",
       "       -0.00219727,  0.00134277,  0.00170898,  0.00588989,  0.01071167,\n",
       "        0.01184082,  0.01498413,  0.01547241,  0.01473999,  0.01678467,\n",
       "        0.01828003,  0.02069092,  0.02529907,  0.02636719,  0.02828979,\n",
       "        0.03079224,  0.0319519 ,  0.03182983,  0.03265381,  0.03305054,\n",
       "        0.0335083 ,  0.03308105,  0.03170776,  0.03106689,  0.03320312,\n",
       "        0.03457642,  0.03305054,  0.0335083 ,  0.03424072,  0.03164673,\n",
       "        0.03137207,  0.02911377,  0.02651978,  0.02944946,  0.02658081,\n",
       "        0.02636719,  0.02932739,  0.02947998,  0.0324707 ,  0.03375244,\n",
       "        0.0324707 ,  0.03442383,  0.03305054,  0.03344727,  0.03613281,\n",
       "        0.03378296,  0.03262329,  0.03253174,  0.02758789,  0.02365112,\n",
       "        0.02001953,  0.01266479,  0.01254272,  0.01153564,  0.00714111,\n",
       "        0.00720215,  0.00619507,  0.00482178,  0.00354004,  0.        ,\n",
       "       -0.00228882, -0.00369263, -0.00448608, -0.0078125 , -0.01080322,\n",
       "       -0.01223755, -0.0149231 , -0.01333618, -0.01370239, -0.01696777,\n",
       "       -0.01687622, -0.01889038, -0.0213623 , -0.02532959, -0.02935791,\n",
       "       -0.03182983, -0.03512573, -0.03695679, -0.03726196, -0.03778076,\n",
       "       -0.03723145, -0.03771973, -0.03713989, -0.03881836, -0.04388428,\n",
       "       -0.04467773, -0.04559326, -0.04544067, -0.04333496, -0.04425049,\n",
       "       -0.04559326, -0.04623413, -0.04968262, -0.04989624, -0.04885864,\n",
       "       -0.04953003, -0.04693604, -0.04458618, -0.04089355, -0.03564453,\n",
       "       -0.03134155, -0.02651978, -0.01882935, -0.01269531, -0.01092529,\n",
       "       -0.00732422, -0.00360107, -0.00338745,  0.00125122,  0.00283813,\n",
       "        0.00390625,  0.00973511,  0.01095581,  0.01321411,  0.01858521,\n",
       "        0.01782227,  0.01889038,  0.02243042,  0.02252197,  0.02383423,\n",
       "        0.02667236,  0.02838135,  0.03015137,  0.03277588,  0.03225708,\n",
       "        0.        ,  0.        ,  0.        ,  0.        ,  0.        ,\n",
       "        0.        ,  0.        ,  0.        ,  0.        ,  0.        ,\n",
       "        0.        ,  0.        ,  0.        ,  0.        ,  0.        ,\n",
       "        0.        ,  0.        ,  0.        ,  0.        ,  0.        ,\n",
       "        0.        ,  0.        ,  0.        ,  0.        ,  0.        ,\n",
       "        0.        ,  0.        ,  0.        ,  0.        ,  0.        ,\n",
       "        0.        ,  0.        ,  0.        ,  0.        ,  0.        ,\n",
       "        0.        ,  0.        ,  0.        ,  0.        ,  0.        ,\n",
       "        0.        ,  0.        ,  0.        ,  0.        ,  0.        ,\n",
       "        0.        ,  0.        ,  0.        ,  0.        ,  0.        ,\n",
       "        0.        ,  0.        ,  0.        ,  0.        ,  0.        ,\n",
       "        0.        ,  0.        ,  0.        ,  0.        ,  0.        ,\n",
       "        0.        ,  0.        ,  0.        ,  0.        ,  0.        ,\n",
       "        0.        ,  0.        ,  0.        ,  0.        ,  0.        ,\n",
       "        0.        ,  0.        ,  0.        ,  0.        ,  0.        ,\n",
       "        0.        ,  0.        ,  0.        ,  0.        ,  0.        ,\n",
       "        0.        ,  0.        ,  0.        ,  0.        ,  0.        ,\n",
       "        0.        ,  0.        ,  0.        ,  0.        ,  0.        ,\n",
       "        0.        ,  0.        ,  0.        ,  0.        ,  0.        ,\n",
       "        0.        ,  0.        ,  0.        ,  0.        ,  0.        ,\n",
       "        0.        ,  0.        ,  0.        ,  0.        ,  0.        ,\n",
       "        0.        ,  0.        ,  0.        ,  0.        ,  0.        ,\n",
       "        0.        ], dtype=float32)"
      ]
     },
     "execution_count": 27,
     "metadata": {},
     "output_type": "execute_result"
    }
   ],
   "source": [
    "samples"
   ]
  },
  {
   "cell_type": "code",
   "execution_count": 30,
   "metadata": {},
   "outputs": [
    {
     "data": {
      "text/plain": [
       "array([0., 0., 0., 0., 0., 0., 0., 0., 0., 0., 0., 0., 0., 0., 0., 0., 0.,\n",
       "       0., 0., 0., 0., 0., 0., 0., 0., 0., 0., 0., 0., 0., 0., 0., 0., 0.,\n",
       "       0., 0., 0., 0., 0., 0., 0., 0., 0., 0., 0., 0., 0., 0., 0., 0., 0.,\n",
       "       0., 0., 0., 0., 0., 0., 0., 0., 0., 0., 0., 0., 0., 0., 0., 0., 0.,\n",
       "       0., 0., 0., 0., 0., 0., 0., 0., 0., 0., 0., 0., 0., 0., 0., 0., 0.,\n",
       "       0., 0., 0., 0., 0., 0., 0., 0., 0., 0., 0., 0., 0., 0., 0., 0., 0.,\n",
       "       0., 0., 0., 0., 0., 0., 0., 0., 0., 0., 0., 0., 0., 0., 0., 0., 0.,\n",
       "       0., 0., 0., 0., 0., 0., 0., 0., 0., 0., 0., 0., 0., 0., 0., 0., 0.,\n",
       "       0., 0., 0., 0., 0., 0., 0., 0., 0., 0., 0., 0., 0., 0., 0., 0., 0.,\n",
       "       0., 0., 0., 0., 0., 0., 0., 0., 0., 0., 0., 0., 0., 0., 0., 0., 0.,\n",
       "       0., 0., 0., 0., 0., 0., 0., 0., 0., 0., 0., 0., 0., 0., 0., 0., 0.,\n",
       "       0., 0., 0., 0., 0., 0., 0., 0., 0., 0., 0., 0., 0., 0., 0., 0., 0.,\n",
       "       0., 0., 0., 0., 0., 0., 0., 0., 0., 0., 0., 0., 0., 0., 0., 0., 0.,\n",
       "       0., 0., 0., 0., 0., 0., 0., 0., 0., 0., 0., 0., 0., 0., 0., 0., 0.,\n",
       "       0., 0., 0., 0., 0., 0., 0., 0., 0., 0., 0., 0., 0., 0., 0., 0., 0.,\n",
       "       0., 0., 0., 0., 0., 0., 0., 0., 0., 0., 0., 0., 0., 0., 0., 0., 0.,\n",
       "       0., 0., 0., 0., 0., 0., 0., 0., 0., 0., 0., 0., 0., 0., 0., 0., 0.,\n",
       "       0., 0., 0., 0., 0., 0., 0., 0., 0., 0., 0., 0., 0., 0., 0., 0., 0.,\n",
       "       0., 0., 0., 0., 0., 0., 0., 0., 0., 0., 0., 0., 0., 0., 0., 0., 0.,\n",
       "       0., 0., 0., 0., 0., 0., 0., 0., 0., 0., 0., 0., 0., 0., 0., 0., 0.,\n",
       "       0., 0., 0., 0., 0., 0., 0., 0., 0., 0., 0., 0., 0., 0., 0., 0., 0.,\n",
       "       0., 0., 0., 0., 0., 0., 0., 0., 0., 0., 0., 0., 0., 0., 0., 0., 0.,\n",
       "       0., 0., 0., 0., 0., 0., 0., 0., 0., 0., 0., 0., 0., 0., 0., 0., 0.,\n",
       "       0., 0., 0., 0., 0., 0., 0., 0., 0., 0., 0., 0., 0., 0., 0., 0., 0.,\n",
       "       0., 0., 0., 0., 0., 0., 0., 0., 0., 0., 0., 0., 0., 0., 0., 0., 0.,\n",
       "       0., 0., 0., 0., 0., 0., 0., 0., 0., 0., 0., 0., 0., 0., 0., 0.],\n",
       "      dtype=float32)"
      ]
     },
     "execution_count": 30,
     "metadata": {},
     "output_type": "execute_result"
    }
   ],
   "source": [
    "samples"
   ]
  },
  {
   "cell_type": "code",
   "execution_count": null,
   "metadata": {},
   "outputs": [],
   "source": [
    "="
   ]
  }
 ],
 "metadata": {
  "kernelspec": {
   "display_name": "Python 3",
   "language": "python",
   "name": "python3"
  },
  "language_info": {
   "codemirror_mode": {
    "name": "ipython",
    "version": 3
   },
   "file_extension": ".py",
   "mimetype": "text/x-python",
   "name": "python",
   "nbconvert_exporter": "python",
   "pygments_lexer": "ipython3",
   "version": "3.5.5"
  }
 },
 "nbformat": 4,
 "nbformat_minor": 2
}
