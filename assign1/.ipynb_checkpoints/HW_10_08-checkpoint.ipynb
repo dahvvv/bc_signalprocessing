{
 "cells": [
  {
   "cell_type": "markdown",
   "metadata": {},
   "source": [
    "Import libraries"
   ]
  },
  {
   "cell_type": "code",
   "execution_count": 6,
   "metadata": {},
   "outputs": [],
   "source": [
    "import numpy\n",
    "import librosa\n",
    "import librosa.display\n",
    "import matplotlib.pyplot as plotlib"
   ]
  },
  {
   "cell_type": "markdown",
   "metadata": {},
   "source": [
    "Import audio file r1.wav<p>Get an array of the file's instantaneous amplitudes<p>Get the file's sampling rate"
   ]
  },
  {
   "cell_type": "code",
   "execution_count": 4,
   "metadata": {},
   "outputs": [
    {
     "name": "stdout",
     "output_type": "stream",
     "text": [
      "[0.0000000e+00 0.0000000e+00 3.0517578e-05 ... 1.0070801e-03 1.5563965e-03\n",
      " 1.8005371e-03] 44100\n"
     ]
    }
   ],
   "source": [
    "file = 'r1.wav'\n",
    "instAmps, sr = librosa.load(file, mono=True, sr=None)\n",
    "print(instAmps, sr)"
   ]
  },
  {
   "cell_type": "markdown",
   "metadata": {},
   "source": [
    "Get an array of each instananeous amplitude's corresponding moment in time (in seconds)"
   ]
  },
  {
   "cell_type": "code",
   "execution_count": 9,
   "metadata": {},
   "outputs": [
    {
     "name": "stdout",
     "output_type": "stream",
     "text": [
      "1048847 [      0       1       2 ... 1048844 1048845 1048846] [0.00000000e+00 2.26757370e-05 4.53514739e-05 ... 2.37833107e+01\n",
      " 2.37833333e+01 2.37833560e+01]\n"
     ]
    }
   ],
   "source": [
    "nSamps = instAmps.shape[0]\n",
    "sampIdxs = numpy.arange(0, nSamps)\n",
    "times = sampIdxs / sr\n",
    "print(nSamps, sampIdxs, times)"
   ]
  },
  {
   "cell_type": "code",
   "execution_count": null,
   "metadata": {},
   "outputs": [],
   "source": []
  }
 ],
 "metadata": {
  "kernelspec": {
   "display_name": "Python 3",
   "language": "python",
   "name": "python3"
  },
  "language_info": {
   "codemirror_mode": {
    "name": "ipython",
    "version": 3
   },
   "file_extension": ".py",
   "mimetype": "text/x-python",
   "name": "python",
   "nbconvert_exporter": "python",
   "pygments_lexer": "ipython3",
   "version": "3.5.5"
  }
 },
 "nbformat": 4,
 "nbformat_minor": 2
}
