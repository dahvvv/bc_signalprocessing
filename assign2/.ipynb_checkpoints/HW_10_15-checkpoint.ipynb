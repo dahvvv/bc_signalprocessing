{
 "cells": [
  {
   "cell_type": "markdown",
   "metadata": {},
   "source": [
    "Import libraries"
   ]
  },
  {
   "cell_type": "code",
   "execution_count": 1,
   "metadata": {},
   "outputs": [],
   "source": [
    "import numpy\n",
    "import librosa\n",
    "import librosa.display\n",
    "import matplotlib.pyplot as plotlib"
   ]
  },
  {
   "cell_type": "markdown",
   "metadata": {},
   "source": [
    "Import the audio file avm.wav, get its instantaneous amplitudes and sample rate"
   ]
  },
  {
   "cell_type": "code",
   "execution_count": 2,
   "metadata": {},
   "outputs": [
    {
     "name": "stdout",
     "output_type": "stream",
     "text": [
      "[ 1.5258789e-04  6.7138672e-04  4.5776367e-04 ... -5.7983398e-04\n",
      " -2.4414062e-04  9.1552734e-05] 44100\n"
     ]
    }
   ],
   "source": [
    "fileName = 'avm.wav'\n",
    "instAmps, sr = librosa.load(fileName, mono=True, sr=None)\n",
    "print(instAmps, sr)"
   ]
  },
  {
   "cell_type": "markdown",
   "metadata": {},
   "source": [
    "Get the audio file's frequency-domain info"
   ]
  },
  {
   "cell_type": "code",
   "execution_count": 3,
   "metadata": {},
   "outputs": [
    {
     "name": "stdout",
     "output_type": "stream",
     "text": [
      "[[-0.06676321+0.0000000e+00j -0.04701265+0.0000000e+00j\n",
      "  -0.0396996 +0.0000000e+00j ... -0.03834468+0.0000000e+00j\n",
      "  -0.03390747+0.0000000e+00j -0.00679688+0.0000000e+00j]\n",
      " [ 0.04281729-9.3512437e-19j  0.01627409+2.2042790e-02j\n",
      "   0.02183525-1.4131955e-02j ...  0.01243507-9.3975253e-03j\n",
      "   0.02838244+1.3025818e-02j -0.00213454+1.3749611e-02j]\n",
      " [-0.01111059-1.2368594e-18j -0.00916781-2.0388518e-02j\n",
      "  -0.00010005+5.0883058e-02j ...  0.00535026+3.7232298e-02j\n",
      "   0.0032398 -6.8845055e-03j  0.01602253-1.5817126e-02j]\n",
      " ...\n",
      " [ 0.01103191-4.7075903e-19j -0.01242788-3.9294918e-04j\n",
      "   0.01424723-1.5890012e-03j ... -0.00188255+1.8726982e-02j\n",
      "   0.00101913-6.2556569e-03j -0.00801278-2.9732990e-03j]\n",
      " [ 0.00219312-2.4530074e-18j  0.01362517-8.2126149e-04j\n",
      "   0.00135697+9.3261531e-04j ...  0.00137673-1.1570876e-02j\n",
      "  -0.00959171+5.1849210e-03j  0.00388128+3.0741261e-03j]\n",
      " [-0.01592261+0.0000000e+00j -0.01515285+0.0000000e+00j\n",
      "  -0.01524171+0.0000000e+00j ...  0.00044063+0.0000000e+00j\n",
      "   0.00679043+0.0000000e+00j -0.00135856+0.0000000e+00j]]\n"
     ]
    }
   ],
   "source": [
    "magsAndPhases = librosa.stft(instAmps)\n",
    "print(magsAndPhases)"
   ]
  },
  {
   "cell_type": "markdown",
   "metadata": {},
   "source": [
    "Throw out the phase info and convert the amplitude info to dB"
   ]
  },
  {
   "cell_type": "code",
   "execution_count": 4,
   "metadata": {},
   "outputs": [
    {
     "name": "stdout",
     "output_type": "stream",
     "text": [
      "[[0.06676321 0.04701265 0.0396996  ... 0.03834468 0.03390747 0.00679688]\n",
      " [0.04281729 0.02739946 0.02600943 ... 0.01558667 0.03122875 0.01391431]\n",
      " [0.01111059 0.02235487 0.05088316 ... 0.03761475 0.00760873 0.02251451]\n",
      " ...\n",
      " [0.01103191 0.01243409 0.01433556 ... 0.01882137 0.00633813 0.00854665]\n",
      " [0.00219312 0.0136499  0.00164655 ... 0.01165249 0.01090341 0.00495122]\n",
      " [0.01592261 0.01515285 0.01524171 ... 0.00044063 0.00679043 0.00135856]] [[-67.38569  -70.432144 -71.90071  ... -72.20233  -73.27052  -80.      ]\n",
      " [-71.24405  -75.1216   -75.57382  ... -80.       -73.985344 -80.      ]\n",
      " [-80.       -76.88899  -69.74495  ... -72.36927  -80.       -76.82719 ]\n",
      " ...\n",
      " [-80.       -80.       -80.       ... -78.38341  -80.       -80.      ]\n",
      " [-80.       -80.       -80.       ... -80.       -80.       -80.      ]\n",
      " [-79.83615  -80.       -80.       ... -80.       -80.       -80.      ]]\n"
     ]
    }
   ],
   "source": [
    "mags = numpy.abs(magsAndPhases)\n",
    "magsDB = librosa.amplitude_to_db(mags, ref=numpy.max)\n",
    "print(mags, magsDB)"
   ]
  },
  {
   "cell_type": "code",
   "execution_count": null,
   "metadata": {},
   "outputs": [],
   "source": []
  }
 ],
 "metadata": {
  "kernelspec": {
   "display_name": "Python 3",
   "language": "python",
   "name": "python3"
  },
  "language_info": {
   "codemirror_mode": {
    "name": "ipython",
    "version": 3
   },
   "file_extension": ".py",
   "mimetype": "text/x-python",
   "name": "python",
   "nbconvert_exporter": "python",
   "pygments_lexer": "ipython3",
   "version": "3.5.5"
  }
 },
 "nbformat": 4,
 "nbformat_minor": 2
}
