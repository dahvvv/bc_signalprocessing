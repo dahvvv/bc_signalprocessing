{
 "cells": [
  {
   "cell_type": "markdown",
   "metadata": {},
   "source": [
    "Import libraries"
   ]
  },
  {
   "cell_type": "code",
   "execution_count": 1,
   "metadata": {},
   "outputs": [],
   "source": [
    "import numpy\n",
    "import librosa\n",
    "import librosa.display\n",
    "import matplotlib.pyplot as plotlib"
   ]
  },
  {
   "cell_type": "markdown",
   "metadata": {},
   "source": [
    "Import audio file, get its instantaneous amplitudes and sample rate"
   ]
  },
  {
   "cell_type": "code",
   "execution_count": 3,
   "metadata": {},
   "outputs": [
    {
     "name": "stdout",
     "output_type": "stream",
     "text": [
      "[0.         0.         0.         ... 0.00259399 0.0027771  0.00289917] 44100\n"
     ]
    }
   ],
   "source": [
    "file_path = './audio/vox/0/00.wav'\n",
    "instAmps, sr = librosa.load(file_path, mono=True, sr=None)\n",
    "print(instAmps, sr)"
   ]
  },
  {
   "cell_type": "markdown",
   "metadata": {},
   "source": [
    "Get the audio file's frequency-domain info"
   ]
  },
  {
   "cell_type": "code",
   "execution_count": 4,
   "metadata": {},
   "outputs": [
    {
     "name": "stdout",
     "output_type": "stream",
     "text": [
      "[[-2.1105055e-02+0.0000000e+00j -2.1105429e-02+0.0000000e+00j\n",
      "  -2.1115702e-02+0.0000000e+00j ...  5.3231770e-01+0.0000000e+00j\n",
      "   5.4411989e-01+0.0000000e+00j  5.5148065e-01+0.0000000e+00j]\n",
      " [ 1.5706832e-02+6.0478152e-19j  1.5883783e-02-1.1837196e-03j\n",
      "   1.6383972e-02-2.1647539e-03j ... -4.6183094e-01+1.7213169e-02j\n",
      "  -4.6517405e-01+6.2641995e-03j -4.6609822e-01+9.9893240e-04j]\n",
      " [-3.2140026e-03-2.5410988e-21j -3.7722231e-03+2.8082349e-03j\n",
      "  -5.3530307e-03+5.1916973e-03j ...  2.8207019e-01+8.6750146e-03j\n",
      "   2.6621082e-01+1.0553502e-02j  2.5559649e-01+5.0749616e-03j]\n",
      " ...\n",
      " [-2.0925484e-04+1.9481758e-20j -2.0774028e-04+3.8293292e-06j\n",
      "  -2.0429578e-04+6.3441926e-06j ...  4.4053397e-04+3.0920788e-04j\n",
      "   5.1888137e-04+2.0469184e-04j  5.6316203e-04+7.9296704e-05j]\n",
      " [ 3.3943425e-04+1.8634725e-20j  3.3911262e-04-1.5713024e-06j\n",
      "   3.3895258e-04+9.2388041e-07j ... -4.2959806e-04-1.6444827e-04j\n",
      "  -4.6979185e-04-1.0662916e-04j -4.9165601e-04-4.1010589e-05j]\n",
      " [-3.9781860e-04+0.0000000e+00j -3.9855714e-04+0.0000000e+00j\n",
      "  -3.9995034e-04+0.0000000e+00j ...  4.1937773e-04+0.0000000e+00j\n",
      "   4.4279301e-04+0.0000000e+00j  4.5476708e-04+0.0000000e+00j]]\n"
     ]
    }
   ],
   "source": [
    "magsAndPhases = librosa.stft(instAmps, n_fft=2048, hop_length=32, win_length=1024)\n",
    "print(magsAndPhases)"
   ]
  },
  {
   "cell_type": "markdown",
   "metadata": {},
   "source": [
    "Throw out the phase info and convert the amplitude info to dB"
   ]
  },
  {
   "cell_type": "code",
   "execution_count": 5,
   "metadata": {},
   "outputs": [
    {
     "name": "stdout",
     "output_type": "stream",
     "text": [
      "[[2.1105055e-02 2.1105429e-02 2.1115702e-02 ... 5.3231770e-01\n",
      "  5.4411989e-01 5.5148065e-01]\n",
      " [1.5706832e-02 1.5927829e-02 1.6526364e-02 ... 4.6215162e-01\n",
      "  4.6521622e-01 4.6609929e-01]\n",
      " [3.2140026e-03 4.7027492e-03 7.4571213e-03 ... 2.8220356e-01\n",
      "  2.6641992e-01 2.5564685e-01]\n",
      " ...\n",
      " [2.0925484e-04 2.0777556e-04 2.0439427e-04 ... 5.3821900e-04\n",
      "  5.5779621e-04 5.6871737e-04]\n",
      " [3.3943425e-04 3.3911626e-04 3.3895383e-04 ... 4.5999754e-04\n",
      "  4.8174075e-04 4.9336348e-04]\n",
      " [3.9781860e-04 3.9855714e-04 3.9995034e-04 ... 4.1937773e-04\n",
      "  4.4279301e-04 4.5476708e-04]] [[-67.384964 -67.38481  -67.380585 ... -39.349274 -39.1588   -39.042088]\n",
      " [-69.95092  -69.82956  -69.50914  ... -40.577003 -40.519596 -40.503124]\n",
      " [-80.       -80.       -76.421265 ... -44.861443 -45.36136  -45.719883]\n",
      " ...\n",
      " [-80.       -80.       -80.       ... -80.       -80.       -80.      ]\n",
      " [-80.       -80.       -80.       ... -80.       -80.       -80.      ]\n",
      " [-80.       -80.       -80.       ... -80.       -80.       -80.      ]]\n"
     ]
    }
   ],
   "source": [
    "mags = numpy.abs(magsAndPhases)\n",
    "magsDB = librosa.amplitude_to_db(mags, ref=numpy.max)\n",
    "print(mags, magsDB)"
   ]
  },
  {
   "cell_type": "code",
   "execution_count": null,
   "metadata": {},
   "outputs": [],
   "source": []
  }
 ],
 "metadata": {
  "kernelspec": {
   "display_name": "Python 3",
   "language": "python",
   "name": "python3"
  },
  "language_info": {
   "codemirror_mode": {
    "name": "ipython",
    "version": 3
   },
   "file_extension": ".py",
   "mimetype": "text/x-python",
   "name": "python",
   "nbconvert_exporter": "python",
   "pygments_lexer": "ipython3",
   "version": "3.5.5"
  }
 },
 "nbformat": 4,
 "nbformat_minor": 2
}
