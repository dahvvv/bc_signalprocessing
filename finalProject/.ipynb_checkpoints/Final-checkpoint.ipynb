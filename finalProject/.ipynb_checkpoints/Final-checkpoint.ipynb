{
 "cells": [
  {
   "cell_type": "markdown",
   "metadata": {},
   "source": [
    "Import libraries"
   ]
  },
  {
   "cell_type": "code",
   "execution_count": 1,
   "metadata": {},
   "outputs": [],
   "source": [
    "import numpy\n",
    "import librosa\n",
    "import librosa.display\n",
    "import matplotlib.pyplot as plotlib\n",
    "import os\n",
    "import statistics\n",
    "import functools as f"
   ]
  },
  {
   "cell_type": "markdown",
   "metadata": {},
   "source": [
    "Make data architecture for sound categories and sound files"
   ]
  },
  {
   "cell_type": "code",
   "execution_count": 2,
   "metadata": {},
   "outputs": [],
   "source": [
    "sound = {}\n",
    "sound_cats = [\"mic_friction\", \"breathing\", \"mumbles\", \"long_hi_pitched\"] # sound categories\n",
    "\n",
    "for category in sound_cats:\n",
    "    sound[category] = {}"
   ]
  },
  {
   "cell_type": "markdown",
   "metadata": {},
   "source": [
    "Write a program to analyze a soundfile and extract the necessary info for a log spectrogram, mel spectrogram, chromagram, and mfccs"
   ]
  },
  {
   "cell_type": "code",
   "execution_count": 5,
   "metadata": {},
   "outputs": [],
   "source": [
    "def getSoundInfo(file_path, n_fft=2048, hop_length=32, win_length=1024, n_mels=128, n_chroma=12, n_mfcc=13):\n",
    "    \n",
    "    instAmps, sr = librosa.load(file_path, mono=True, sr=None)\n",
    "    \n",
    "    magsAndPhases = librosa.stft(instAmps, n_fft=n_fft, hop_length=hop_length, win_length=win_length)\n",
    "    mags = numpy.abs(magsAndPhases)\n",
    "    magsDB = librosa.amplitude_to_db(mags, ref=numpy.max)\n",
    "    \n",
    "    melInfo = librosa.feature.melspectrogram(y=instAmps, sr=sr, n_mels=n_mels)\n",
    "    melDB = librosa.power_to_db(melInfo, ref=numpy.max)\n",
    "    \n",
    "    instAmpsHarm, instAmpsPerc = librosa.effects.hpss(instAmps)\n",
    "    chroma = librosa.feature.chroma_stft(y=instAmpsHarm, sr=sr, n_chroma=n_chroma)\n",
    "    \n",
    "    mfcc = librosa.feature.mfcc(S=melDB, n_mfcc=n_mfcc)\n",
    "    \n",
    "    return { \"instAmps\": instAmps, \"sr\": sr, \"magsDB\": magsDB, \"melDB\": melDB, \"chroma\": chroma, \"mfcc\": mfcc }"
   ]
  },
  {
   "cell_type": "code",
   "execution_count": 6,
   "metadata": {},
   "outputs": [
    {
     "data": {
      "text/plain": [
       "{'chroma': array([[0.8269854 , 0.8573789 , 0.65579335, ..., 0.89052603, 0.8719003 ,\n",
       "         0.41002861],\n",
       "        [0.82737227, 0.81259764, 0.60778725, ..., 0.9420317 , 0.92189722,\n",
       "         0.52817684],\n",
       "        [0.83149248, 0.74982588, 0.64539651, ..., 0.97400558, 0.97054673,\n",
       "         0.66319684],\n",
       "        ...,\n",
       "        [0.84302425, 0.76443797, 0.85562974, ..., 0.92555478, 0.83425181,\n",
       "         0.47111582],\n",
       "        [0.79367264, 0.83619172, 0.79356521, ..., 0.86328526, 0.80761876,\n",
       "         0.39089898],\n",
       "        [0.87889296, 0.97900286, 0.83266899, ..., 0.8251621 , 0.79988718,\n",
       "         0.34817376]]),\n",
       " 'instAmps': array([0., 0., 0., ..., 0., 0., 0.], dtype=float32),\n",
       " 'magsDB': array([[-64.97078 , -64.97002 , -64.96423 , ..., -47.804718, -46.69642 ,\n",
       "         -46.27717 ],\n",
       "        [-67.28287 , -67.19441 , -66.95633 , ..., -47.020477, -46.74076 ,\n",
       "         -46.61455 ],\n",
       "        [-77.966446, -76.44974 , -73.809326, ..., -47.787758, -48.564438,\n",
       "         -48.91045 ],\n",
       "        ...,\n",
       "        [-80.      , -80.      , -80.      , ..., -80.      , -80.      ,\n",
       "         -80.      ],\n",
       "        [-80.      , -80.      , -80.      , ..., -80.      , -80.      ,\n",
       "         -80.      ],\n",
       "        [-80.      , -80.      , -80.      , ..., -80.      , -80.      ,\n",
       "         -80.      ]], dtype=float32),\n",
       " 'melDB': array([[-66.28728831, -64.85647783, -64.00815276, ..., -35.05631208,\n",
       "         -34.0298037 , -36.7398723 ],\n",
       "        [-66.62672053, -64.39894455, -66.17494141, ..., -51.3895892 ,\n",
       "         -41.2340249 , -39.88883467],\n",
       "        [-69.32384624, -73.39442315, -74.01502689, ..., -55.30292609,\n",
       "         -46.3844519 , -42.68876537],\n",
       "        ...,\n",
       "        [-80.        , -80.        , -80.        , ..., -80.        ,\n",
       "         -80.        , -80.        ],\n",
       "        [-80.        , -80.        , -80.        , ..., -80.        ,\n",
       "         -80.        , -80.        ],\n",
       "        [-80.        , -80.        , -80.        , ..., -80.        ,\n",
       "         -80.        , -80.        ]]),\n",
       " 'mfcc': array([[-901.5974816 , -900.87450919, -900.5383644 , ..., -880.36783518,\n",
       "         -869.26146479, -853.84767942],\n",
       "        [   4.93866145,    5.77185349,    6.39134994, ...,   33.14556805,\n",
       "           44.94001064,   59.78491348],\n",
       "        [   4.90915006,    5.46388719,    6.27119786, ...,   28.57316718,\n",
       "           31.39802175,   33.14254348],\n",
       "        ...,\n",
       "        [   4.19447399,    4.70315053,    4.46460836, ...,   10.13010408,\n",
       "           12.14598386,    9.64788361],\n",
       "        [   4.08544498,    4.37405705,    4.10774923, ...,    6.35969015,\n",
       "            5.4062016 ,    3.49661714],\n",
       "        [   3.98051529,    4.12964236,    3.75767939, ...,    4.59789047,\n",
       "            3.34646687,    3.22415467]]),\n",
       " 'sr': 44100}"
      ]
     },
     "execution_count": 6,
     "metadata": {},
     "output_type": "execute_result"
    }
   ],
   "source": [
    "getSoundInfo('./audio/categories/mic_friction/00.wav')"
   ]
  },
  {
   "cell_type": "code",
   "execution_count": null,
   "metadata": {},
   "outputs": [],
   "source": []
  }
 ],
 "metadata": {
  "kernelspec": {
   "display_name": "Python 3",
   "language": "python",
   "name": "python3"
  },
  "language_info": {
   "codemirror_mode": {
    "name": "ipython",
    "version": 3
   },
   "file_extension": ".py",
   "mimetype": "text/x-python",
   "name": "python",
   "nbconvert_exporter": "python",
   "pygments_lexer": "ipython3",
   "version": "3.5.5"
  }
 },
 "nbformat": 4,
 "nbformat_minor": 2
}
